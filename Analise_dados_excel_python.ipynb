{
  "nbformat": 4,
  "nbformat_minor": 0,
  "metadata": {
    "colab": {
      "name": "Analise_dados_excel_python.ipynb",
      "provenance": [],
      "include_colab_link": true
    },
    "kernelspec": {
      "name": "python3",
      "display_name": "Python 3"
    }
  },
  "cells": [
    {
      "cell_type": "markdown",
      "metadata": {
        "id": "view-in-github",
        "colab_type": "text"
      },
      "source": [
        "<a href=\"https://colab.research.google.com/github/Gil135/analise_de_dados_com_python/blob/main/Analise_dados_excel_python.ipynb\" target=\"_parent\"><img src=\"https://colab.research.google.com/assets/colab-badge.svg\" alt=\"Open In Colab\"/></a>"
      ]
    },
    {
      "cell_type": "markdown",
      "metadata": {
        "id": "ZeNH2z6OzfND"
      },
      "source": [
        "#**Olá Analista tudo bem!!**\n",
        "\n",
        "  Utilizaremos o notebook para analise de vendas  em varias filiais de uma determinada loja.\n"
      ]
    },
    {
      "cell_type": "code",
      "metadata": {
        "id": "Jwz3_uGfzmYp"
      },
      "source": [
        "#Importando a bibliotecas\n",
        "#usaremos pandas para analise dos dados acrecentaremos ao estudo Seaborn pra implementar graficos com melhor visual\n",
        "import pandas as pd\n",
        "import seaborn as sns"
      ],
      "execution_count": 1,
      "outputs": []
    },
    {
      "cell_type": "code",
      "metadata": {
        "id": "pCTDd0YKzqkc"
      },
      "source": [
        "#importando o dataset excel salvo no \"github\"\n",
        "baseExcel1 = pd.read_excel(\"https://github.com/Gil135/analise_de_dados_com_python/blob/main/Aracaju.xlsx?raw=true\")\n",
        "baseExcel2 = pd.read_excel(\"https://github.com/Gil135/analise_de_dados_com_python/blob/main/Fortaleza.xlsx?raw=true\")\n",
        "baseExcel3 = pd.read_excel(\"https://github.com/Gil135/analise_de_dados_com_python/blob/main/Natal.xlsx?raw=true\")\n",
        "baseExcel4 = pd.read_excel(\"https://github.com/Gil135/analise_de_dados_com_python/blob/main/Recife.xlsx?raw=true\")\n",
        "baseExcel5 = pd.read_excel(\"https://github.com/Gil135/analise_de_dados_com_python/blob/main/Salvador.xlsx?raw=true\")"
      ],
      "execution_count": 2,
      "outputs": []
    },
    {
      "cell_type": "code",
      "metadata": {
        "id": "bt3rZ7tWBPj7",
        "colab": {
          "base_uri": "https://localhost:8080/",
          "height": 204
        },
        "outputId": "75b27c4f-4111-430d-8308-16da5db19b90"
      },
      "source": [
        "baseExcel2.head()"
      ],
      "execution_count": 3,
      "outputs": [
        {
          "output_type": "execute_result",
          "data": {
            "text/html": [
              "<div>\n",
              "<style scoped>\n",
              "    .dataframe tbody tr th:only-of-type {\n",
              "        vertical-align: middle;\n",
              "    }\n",
              "\n",
              "    .dataframe tbody tr th {\n",
              "        vertical-align: top;\n",
              "    }\n",
              "\n",
              "    .dataframe thead th {\n",
              "        text-align: right;\n",
              "    }\n",
              "</style>\n",
              "<table border=\"1\" class=\"dataframe\">\n",
              "  <thead>\n",
              "    <tr style=\"text-align: right;\">\n",
              "      <th></th>\n",
              "      <th>Cidade</th>\n",
              "      <th>Data</th>\n",
              "      <th>Vendas</th>\n",
              "      <th>LojaID</th>\n",
              "      <th>Qtde</th>\n",
              "    </tr>\n",
              "  </thead>\n",
              "  <tbody>\n",
              "    <tr>\n",
              "      <th>0</th>\n",
              "      <td>Fortaleza</td>\n",
              "      <td>2019-01-01</td>\n",
              "      <td>45.27</td>\n",
              "      <td>1002</td>\n",
              "      <td>2</td>\n",
              "    </tr>\n",
              "    <tr>\n",
              "      <th>1</th>\n",
              "      <td>Fortaleza</td>\n",
              "      <td>2019-01-01</td>\n",
              "      <td>115.61</td>\n",
              "      <td>1002</td>\n",
              "      <td>3</td>\n",
              "    </tr>\n",
              "    <tr>\n",
              "      <th>2</th>\n",
              "      <td>Fortaleza</td>\n",
              "      <td>2019-02-10</td>\n",
              "      <td>35.33</td>\n",
              "      <td>1004</td>\n",
              "      <td>3</td>\n",
              "    </tr>\n",
              "    <tr>\n",
              "      <th>3</th>\n",
              "      <td>Fortaleza</td>\n",
              "      <td>2019-02-10</td>\n",
              "      <td>20.95</td>\n",
              "      <td>1004</td>\n",
              "      <td>6</td>\n",
              "    </tr>\n",
              "    <tr>\n",
              "      <th>4</th>\n",
              "      <td>Fortaleza</td>\n",
              "      <td>2019-01-01</td>\n",
              "      <td>14.25</td>\n",
              "      <td>1004</td>\n",
              "      <td>6</td>\n",
              "    </tr>\n",
              "  </tbody>\n",
              "</table>\n",
              "</div>"
            ],
            "text/plain": [
              "      Cidade       Data  Vendas  LojaID  Qtde\n",
              "0  Fortaleza 2019-01-01   45.27    1002     2\n",
              "1  Fortaleza 2019-01-01  115.61    1002     3\n",
              "2  Fortaleza 2019-02-10   35.33    1004     3\n",
              "3  Fortaleza 2019-02-10   20.95    1004     6\n",
              "4  Fortaleza 2019-01-01   14.25    1004     6"
            ]
          },
          "metadata": {},
          "execution_count": 3
        }
      ]
    },
    {
      "cell_type": "code",
      "metadata": {
        "id": "7CUnX6220WVx"
      },
      "source": [
        "#juntando todos os arquivos\n",
        "baseExcel = pd.concat([baseExcel1,baseExcel2,baseExcel3,baseExcel4,baseExcel5,])\n",
        "#Exibindo as 5 primeiras linhas\n",
        "baseExcel.head()"
      ],
      "execution_count": null,
      "outputs": []
    },
    {
      "cell_type": "code",
      "metadata": {
        "id": "kw0zQfVL0_-L"
      },
      "source": [
        "#Verificando o tipo de dado de cada coluna\n",
        "baseExcel.dtypes"
      ],
      "execution_count": null,
      "outputs": []
    },
    {
      "cell_type": "code",
      "metadata": {
        "id": "JB2rkM0b1kKF"
      },
      "source": [
        "#Alterando o tipo de dado da coluna LojaID\n",
        "baseExcel[\"LojaID\"] = baseExcel[\"LojaID\"].astype(\"object\")"
      ],
      "execution_count": null,
      "outputs": []
    },
    {
      "cell_type": "code",
      "metadata": {
        "id": "3t1uir2H1w3x"
      },
      "source": [
        "#Checando os tipos de dados das colunas\n",
        "baseExcel.dtypes"
      ],
      "execution_count": null,
      "outputs": []
    },
    {
      "cell_type": "code",
      "metadata": {
        "id": "B0Z8PPuJ19dc"
      },
      "source": [
        "baseExcel.head()"
      ],
      "execution_count": null,
      "outputs": []
    },
    {
      "cell_type": "code",
      "metadata": {
        "id": "meRK2SJWK3v2"
      },
      "source": [
        "baseExcel.describe()"
      ],
      "execution_count": null,
      "outputs": []
    },
    {
      "cell_type": "code",
      "metadata": {
        "id": "TOHSvC-mIaQO"
      },
      "source": [
        "baseExcel.groupby(\"Cidade\")[\"Vendas\"].nunique()"
      ],
      "execution_count": null,
      "outputs": []
    }
  ]
}